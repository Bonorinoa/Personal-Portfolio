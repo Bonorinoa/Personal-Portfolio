{
  "nbformat": 4,
  "nbformat_minor": 0,
  "metadata": {
    "colab": {
      "provenance": []
    },
    "kernelspec": {
      "name": "python3",
      "display_name": "Python 3"
    },
    "language_info": {
      "name": "python"
    }
  },
  "cells": [
    {
      "cell_type": "code",
      "execution_count": null,
      "metadata": {
        "id": "dE3WeJIM0mvH"
      },
      "outputs": [],
      "source": []
    },
    {
      "cell_type": "markdown",
      "source": [
        "# Part II\n",
        "\n",
        "Change the data set (use your choice of a hand written that can be any language symbols data set from any open source) and complete exercise 1 and 2 after the Chapter 3. Submit a short write-up based on your code outputs for each exercise.\n",
        "\n",
        "- Dataset description: https://ai.stanford.edu/~btaskar/ocr/"
      ],
      "metadata": {
        "id": "owyVNaM6vfHy"
      }
    },
    {
      "cell_type": "markdown",
      "source": [
        "## Load data\n",
        "\n",
        "The tab delimited data file (letter.data.gz) contains a line for each letter and the additional fields:\n",
        "\n",
        "- id: each letter is assigned a unique integer id\n",
        "- letter: a-z\n",
        "- next_id: id for next letter in the word, -1 if last letter\n",
        "- word_id: each word is assigned a unique integer id (not used)\n",
        "- position: position of letter in the word (not used)\n",
        "- fold: 0-9 -- cross-validation fold\n",
        "- p_i_j: 0/1 -- value of pixel in row i, column j\n",
        "\n",
        "The matrices are extracted by unzipping the data file, and parsing the tab delimited file to construct numpy arrays"
      ],
      "metadata": {
        "id": "1Z9lYZDOW-5k"
      }
    },
    {
      "cell_type": "code",
      "source": [
        "import gzip\n",
        "import numpy as np\n",
        "\n",
        "def load_letter_data(file_path):\n",
        "    with gzip.open(file_path, 'rt') as file:  # 'rt' mode for text reading\n",
        "        # Initialize lists to hold data and labels\n",
        "        data, labels = [], []\n",
        "        for line in file:\n",
        "            # Split line into components: ID, letter, next ID, word ID, position, fold, 16x8 attributes, bitmap\n",
        "            parts = line.strip().split('\\t')\n",
        "            # The letter is in the second column, bitmap starts from column 6 onwards\n",
        "            label = parts[1]\n",
        "            bitmap = np.array([int(val) for val in parts[6:134]]).reshape((16, 8))  # Adjust shape according to data structure\n",
        "            data.append(bitmap)\n",
        "            labels.append(label)\n",
        "        data = np.array(data)\n",
        "        labels = np.array(labels)\n",
        "    return data, labels\n",
        "\n",
        "# Example usage\n",
        "file_path = '/content/letter.data.gz'\n",
        "data, labels = load_letter_data(file_path)\n",
        "data.shape"
      ],
      "metadata": {
        "id": "podgsJ8Dvf_C",
        "colab": {
          "base_uri": "https://localhost:8080/"
        },
        "outputId": "883f7751-dfdf-4d38-b3ea-71caea826177"
      },
      "execution_count": null,
      "outputs": [
        {
          "output_type": "execute_result",
          "data": {
            "text/plain": [
              "(52152, 16, 8)"
            ]
          },
          "metadata": {},
          "execution_count": 26
        }
      ]
    },
    {
      "cell_type": "markdown",
      "source": [
        "Note that the data object constructed is an array that shows the number of rows, and the dimensions of the images. To construct the images this array needs to be flattened before splitting."
      ],
      "metadata": {
        "id": "cE5LNA40ZA7L"
      }
    },
    {
      "cell_type": "code",
      "source": [
        "# reshape data to be (52152, 16x8) instead of (52152, 16, 8)\n",
        "data_flattened = data.reshape(data.shape[0], -1)\n",
        "data_flattened, data_flattened.shape"
      ],
      "metadata": {
        "colab": {
          "base_uri": "https://localhost:8080/"
        },
        "id": "wAa12YZDlOe_",
        "outputId": "533eb176-88a7-46a5-e78f-1edcfcc76847"
      },
      "execution_count": null,
      "outputs": [
        {
          "output_type": "execute_result",
          "data": {
            "text/plain": [
              "(array([[0, 0, 0, ..., 0, 0, 0],\n",
              "        [0, 0, 0, ..., 0, 0, 0],\n",
              "        [0, 0, 0, ..., 0, 0, 0],\n",
              "        ...,\n",
              "        [0, 0, 1, ..., 1, 0, 0],\n",
              "        [0, 0, 0, ..., 0, 0, 0],\n",
              "        [0, 1, 1, ..., 1, 1, 0]]),\n",
              " (52152, 128))"
            ]
          },
          "metadata": {},
          "execution_count": 25
        }
      ]
    },
    {
      "cell_type": "code",
      "source": [
        "labels, labels.shape"
      ],
      "metadata": {
        "colab": {
          "base_uri": "https://localhost:8080/"
        },
        "id": "WhlDR4-XguJ8",
        "outputId": "17535a68-7f99-4629-b365-a00c469e26dd"
      },
      "execution_count": null,
      "outputs": [
        {
          "output_type": "execute_result",
          "data": {
            "text/plain": [
              "(array(['o', 'm', 'm', ..., 'i', 'a', 'l'], dtype='<U1'), (52152,))"
            ]
          },
          "metadata": {},
          "execution_count": 4
        }
      ]
    },
    {
      "cell_type": "markdown",
      "source": [
        "Now we split the data with a train/test split of 70/30"
      ],
      "metadata": {
        "id": "CIjY_6ucZU6D"
      }
    },
    {
      "cell_type": "code",
      "source": [
        "from sklearn.model_selection import train_test_split\n",
        "\n",
        "X_train, X_test, y_train, y_test = train_test_split(data_flattened, labels,\n",
        "                                                    random_state=42, test_size=0.3)"
      ],
      "metadata": {
        "id": "BcJsl9Nmgwul"
      },
      "execution_count": null,
      "outputs": []
    },
    {
      "cell_type": "markdown",
      "source": [
        "To set a baseline, following the book's advice, I train a vainilla and a hyperparameter tuned k-neighbors classifier."
      ],
      "metadata": {
        "id": "q-9JTsxbbsG-"
      }
    },
    {
      "cell_type": "code",
      "source": [
        "knn_clf = KNeighborsClassifier()\n",
        "knn_clf.fit(X_train, y_train)\n",
        "baseline_accuracy = knn_clf.score(X_test, y_test)\n",
        "\n",
        "##\n",
        "param_grid = [{'weights': [\"uniform\", \"distance\"], 'n_neighbors': [3, 4, 5, 6]}]\n",
        "\n",
        "knn_clf = KNeighborsClassifier()\n",
        "grid_search = GridSearchCV(knn_clf, param_grid, cv=5)\n",
        "grid_search.fit(X_train, y_train)\n",
        "grid_search.best_estimator_.fit(X_train, y_train)\n",
        "tuned_accuracy = grid_search.score(X_test, y_test)\n"
      ],
      "metadata": {
        "id": "r-jUyNF1TLZq"
      },
      "execution_count": null,
      "outputs": []
    },
    {
      "cell_type": "markdown",
      "source": [
        "Note that the accuracy barely improved with grid search cross validation."
      ],
      "metadata": {
        "id": "VBOYdQPqaWra"
      }
    },
    {
      "cell_type": "code",
      "source": [
        "print(f\"Baseline Accuracy: {baseline_accuracy} \\n\\n\" \\\n",
        "      + f\"Tuned Accuracy: {tuned_accuracy}\")\n"
      ],
      "metadata": {
        "colab": {
          "base_uri": "https://localhost:8080/"
        },
        "id": "7r8z8JNDUvGx",
        "outputId": "2d9ba6ab-e8b2-4e2b-b9bb-b3e5fd4b241b"
      },
      "execution_count": null,
      "outputs": [
        {
          "output_type": "stream",
          "name": "stdout",
          "text": [
            "Baseline Accuracy: 0.8189313562571904 \n",
            "\n",
            "Tuned Accuracy: 0.826025821296178\n"
          ]
        }
      ]
    },
    {
      "cell_type": "code",
      "source": [
        "from sklearn.base import BaseEstimator, TransformerMixin\n",
        "from sklearn.pipeline import Pipeline\n",
        "from sklearn.preprocessing import StandardScaler\n",
        "import numpy as np\n",
        "\n",
        "# Custom transformer to flatten the image\n",
        "class ImageFlattener(BaseEstimator, TransformerMixin):\n",
        "    def fit(self, X, y=None):\n",
        "        return self\n",
        "    def transform(self, X, y=None):\n",
        "        return X.reshape(X.shape[0], -1)\n",
        "\n",
        "# Create the pipeline\n",
        "pipeline = Pipeline([\n",
        "    ('flatten', ImageFlattener()),\n",
        "    ('scale', StandardScaler()),\n",
        "])\n",
        "\n",
        "pipeline.fit_transform(data)"
      ],
      "metadata": {
        "colab": {
          "base_uri": "https://localhost:8080/"
        },
        "id": "gy-OXdP1ccnX",
        "outputId": "a3e22099-ed90-4326-b578-43143933329b"
      },
      "execution_count": null,
      "outputs": [
        {
          "output_type": "execute_result",
          "data": {
            "text/plain": [
              "array([[-0.1953475 , -0.25711988, -0.35095116, ..., -0.37231086,\n",
              "        -0.28204679, -0.2015583 ],\n",
              "       [-0.1953475 , -0.25711988, -0.35095116, ..., -0.37231086,\n",
              "        -0.28204679, -0.2015583 ],\n",
              "       [-0.1953475 , -0.25711988, -0.35095116, ..., -0.37231086,\n",
              "        -0.28204679, -0.2015583 ],\n",
              "       ...,\n",
              "       [-0.1953475 , -0.25711988,  2.84939937, ...,  2.68592758,\n",
              "        -0.28204679, -0.2015583 ],\n",
              "       [-0.1953475 , -0.25711988, -0.35095116, ..., -0.37231086,\n",
              "        -0.28204679, -0.2015583 ],\n",
              "       [-0.1953475 ,  3.88923637,  2.84939937, ...,  2.68592758,\n",
              "         3.54551095, -0.2015583 ]])"
            ]
          },
          "metadata": {},
          "execution_count": 30
        }
      ]
    },
    {
      "cell_type": "code",
      "source": [
        "from sklearn.model_selection import train_test_split\n",
        "from sklearn.neighbors import KNeighborsClassifier\n",
        "\n",
        "# Assume y is your target data\n",
        "X_train, X_test, y_train, y_test = train_test_split(data, labels, test_size=0.3, random_state=42)\n",
        "\n",
        "# Transform the training data and test data\n",
        "X_train_transformed = pipeline.fit_transform(X_train)\n",
        "X_test_transformed = pipeline.transform(X_test)\n",
        "\n",
        "# Fit the KNeighborsClassifier\n",
        "knn = KNeighborsClassifier(n_neighbors=5)\n",
        "knn.fit(X_train_transformed, y_train)\n",
        "\n",
        "# Compute the score\n",
        "score = knn.score(X_test_transformed, y_test)\n",
        "print(f'The accuracy score is {score}')\n"
      ],
      "metadata": {
        "colab": {
          "base_uri": "https://localhost:8080/"
        },
        "id": "aHmYlbZBfY5t",
        "outputId": "373fe381-b0c0-4800-e082-0b7572270465"
      },
      "execution_count": null,
      "outputs": [
        {
          "output_type": "stream",
          "name": "stdout",
          "text": [
            "The accuracy score is 0.8139460565000639\n"
          ]
        }
      ]
    },
    {
      "cell_type": "code",
      "source": [
        "knn_clf = KNeighborsClassifier()\n",
        "grid_search = GridSearchCV(knn_clf, param_grid, cv=5)\n",
        "grid_search.fit(X_train_transformed, y_train)\n",
        "grid_search.best_estimator_.fit(X_train_transformed, y_train)\n",
        "tuned_accuracy = grid_search.score(X_test_transformed, y_test)\n",
        "tuned_accuracy"
      ],
      "metadata": {
        "colab": {
          "base_uri": "https://localhost:8080/"
        },
        "id": "AV-vGR1GgRCI",
        "outputId": "c851f9e5-4f26-49e4-ff38-6ad5b7f27b75"
      },
      "execution_count": null,
      "outputs": [
        {
          "output_type": "execute_result",
          "data": {
            "text/plain": [
              "0.8208487792407005"
            ]
          },
          "metadata": {},
          "execution_count": 33
        }
      ]
    },
    {
      "cell_type": "markdown",
      "source": [],
      "metadata": {
        "id": "jLFTXWACcb_Y"
      }
    },
    {
      "cell_type": "markdown",
      "source": [
        "#### Binary Classifier\n",
        "\n",
        "The performance of the multiclass classifier was not satisfactory. The next few cells of code implement a binary classifer for the letter 'a'. The accuracy scores recorded are significantly better."
      ],
      "metadata": {
        "id": "btTKZe9_j9x1"
      }
    },
    {
      "cell_type": "code",
      "source": [
        "from sklearn.linear_model import SGDClassifier\n",
        "\n",
        "y_traina = y_train == \"a\"\n",
        "y_testa = y_test == \"a\"\n",
        "\n",
        "binary_sgd = SGDClassifier(random_state=42)\n",
        "binary_sgd.fit(X_train_transformed, y_traina)"
      ],
      "metadata": {
        "colab": {
          "base_uri": "https://localhost:8080/",
          "height": 75
        },
        "id": "ckcYDFIakAeL",
        "outputId": "aca13ff6-9663-4226-bfae-aa7e517ce7cf"
      },
      "execution_count": null,
      "outputs": [
        {
          "output_type": "execute_result",
          "data": {
            "text/plain": [
              "SGDClassifier(random_state=42)"
            ],
            "text/html": [
              "<style>#sk-container-id-2 {color: black;background-color: white;}#sk-container-id-2 pre{padding: 0;}#sk-container-id-2 div.sk-toggleable {background-color: white;}#sk-container-id-2 label.sk-toggleable__label {cursor: pointer;display: block;width: 100%;margin-bottom: 0;padding: 0.3em;box-sizing: border-box;text-align: center;}#sk-container-id-2 label.sk-toggleable__label-arrow:before {content: \"▸\";float: left;margin-right: 0.25em;color: #696969;}#sk-container-id-2 label.sk-toggleable__label-arrow:hover:before {color: black;}#sk-container-id-2 div.sk-estimator:hover label.sk-toggleable__label-arrow:before {color: black;}#sk-container-id-2 div.sk-toggleable__content {max-height: 0;max-width: 0;overflow: hidden;text-align: left;background-color: #f0f8ff;}#sk-container-id-2 div.sk-toggleable__content pre {margin: 0.2em;color: black;border-radius: 0.25em;background-color: #f0f8ff;}#sk-container-id-2 input.sk-toggleable__control:checked~div.sk-toggleable__content {max-height: 200px;max-width: 100%;overflow: auto;}#sk-container-id-2 input.sk-toggleable__control:checked~label.sk-toggleable__label-arrow:before {content: \"▾\";}#sk-container-id-2 div.sk-estimator input.sk-toggleable__control:checked~label.sk-toggleable__label {background-color: #d4ebff;}#sk-container-id-2 div.sk-label input.sk-toggleable__control:checked~label.sk-toggleable__label {background-color: #d4ebff;}#sk-container-id-2 input.sk-hidden--visually {border: 0;clip: rect(1px 1px 1px 1px);clip: rect(1px, 1px, 1px, 1px);height: 1px;margin: -1px;overflow: hidden;padding: 0;position: absolute;width: 1px;}#sk-container-id-2 div.sk-estimator {font-family: monospace;background-color: #f0f8ff;border: 1px dotted black;border-radius: 0.25em;box-sizing: border-box;margin-bottom: 0.5em;}#sk-container-id-2 div.sk-estimator:hover {background-color: #d4ebff;}#sk-container-id-2 div.sk-parallel-item::after {content: \"\";width: 100%;border-bottom: 1px solid gray;flex-grow: 1;}#sk-container-id-2 div.sk-label:hover label.sk-toggleable__label {background-color: #d4ebff;}#sk-container-id-2 div.sk-serial::before {content: \"\";position: absolute;border-left: 1px solid gray;box-sizing: border-box;top: 0;bottom: 0;left: 50%;z-index: 0;}#sk-container-id-2 div.sk-serial {display: flex;flex-direction: column;align-items: center;background-color: white;padding-right: 0.2em;padding-left: 0.2em;position: relative;}#sk-container-id-2 div.sk-item {position: relative;z-index: 1;}#sk-container-id-2 div.sk-parallel {display: flex;align-items: stretch;justify-content: center;background-color: white;position: relative;}#sk-container-id-2 div.sk-item::before, #sk-container-id-2 div.sk-parallel-item::before {content: \"\";position: absolute;border-left: 1px solid gray;box-sizing: border-box;top: 0;bottom: 0;left: 50%;z-index: -1;}#sk-container-id-2 div.sk-parallel-item {display: flex;flex-direction: column;z-index: 1;position: relative;background-color: white;}#sk-container-id-2 div.sk-parallel-item:first-child::after {align-self: flex-end;width: 50%;}#sk-container-id-2 div.sk-parallel-item:last-child::after {align-self: flex-start;width: 50%;}#sk-container-id-2 div.sk-parallel-item:only-child::after {width: 0;}#sk-container-id-2 div.sk-dashed-wrapped {border: 1px dashed gray;margin: 0 0.4em 0.5em 0.4em;box-sizing: border-box;padding-bottom: 0.4em;background-color: white;}#sk-container-id-2 div.sk-label label {font-family: monospace;font-weight: bold;display: inline-block;line-height: 1.2em;}#sk-container-id-2 div.sk-label-container {text-align: center;}#sk-container-id-2 div.sk-container {/* jupyter's `normalize.less` sets `[hidden] { display: none; }` but bootstrap.min.css set `[hidden] { display: none !important; }` so we also need the `!important` here to be able to override the default hidden behavior on the sphinx rendered scikit-learn.org. See: https://github.com/scikit-learn/scikit-learn/issues/21755 */display: inline-block !important;position: relative;}#sk-container-id-2 div.sk-text-repr-fallback {display: none;}</style><div id=\"sk-container-id-2\" class=\"sk-top-container\"><div class=\"sk-text-repr-fallback\"><pre>SGDClassifier(random_state=42)</pre><b>In a Jupyter environment, please rerun this cell to show the HTML representation or trust the notebook. <br />On GitHub, the HTML representation is unable to render, please try loading this page with nbviewer.org.</b></div><div class=\"sk-container\" hidden><div class=\"sk-item\"><div class=\"sk-estimator sk-toggleable\"><input class=\"sk-toggleable__control sk-hidden--visually\" id=\"sk-estimator-id-2\" type=\"checkbox\" checked><label for=\"sk-estimator-id-2\" class=\"sk-toggleable__label sk-toggleable__label-arrow\">SGDClassifier</label><div class=\"sk-toggleable__content\"><pre>SGDClassifier(random_state=42)</pre></div></div></div></div></div>"
            ]
          },
          "metadata": {},
          "execution_count": 50
        }
      ]
    },
    {
      "cell_type": "code",
      "source": [
        "from sklearn.model_selection import cross_val_score\n",
        "\n",
        "cross_val_score(binary_sgd, X_train_transformed, y_traina, cv=5, scoring=\"accuracy\")"
      ],
      "metadata": {
        "colab": {
          "base_uri": "https://localhost:8080/"
        },
        "id": "Bqe3fDgen8C_",
        "outputId": "a75fb381-9ee1-4f72-e8ce-1592023537b4"
      },
      "execution_count": null,
      "outputs": [
        {
          "output_type": "execute_result",
          "data": {
            "text/plain": [
              "array([0.94700082, 0.94918504, 0.94959595, 0.94713053, 0.95110259])"
            ]
          },
          "metadata": {},
          "execution_count": 51
        }
      ]
    },
    {
      "cell_type": "code",
      "source": [
        "# dummy classifier for benchmark\n",
        "from sklearn.dummy import DummyClassifier\n",
        "\n",
        "dummy_clf = DummyClassifier()\n",
        "dummy_clf.fit(X_train, y_traina)\n",
        "\n",
        "# we get accuracy scores around 92% because around 8% of the training data are \"a\"\n",
        "cross_val_score(dummy_clf, X_train_transformed, y_traina, cv=5, scoring=\"accuracy\"), 100*sum(y_traina)/len(y_train)"
      ],
      "metadata": {
        "colab": {
          "base_uri": "https://localhost:8080/"
        },
        "id": "Yp4eJfduoScy",
        "outputId": "9233b81c-f3ec-4f84-802a-f6bb01cb9035"
      },
      "execution_count": null,
      "outputs": [
        {
          "output_type": "execute_result",
          "data": {
            "text/plain": [
              "(array([0.92289784, 0.92288728, 0.92288728, 0.92288728, 0.92288728]),\n",
              " 7.711061195419931)"
            ]
          },
          "metadata": {},
          "execution_count": 52
        }
      ]
    },
    {
      "cell_type": "code",
      "source": [
        "from collections import Counter\n",
        "\n",
        "frequency_table = Counter(labels)\n",
        "\n",
        "total_labels = sum(frequency_table.values())\n",
        "\n",
        "# Calculating percentages of total labels for each label\n",
        "percentage_table = {label: (count / total_labels * 100) for label, count in frequency_table.items()}\n",
        "percentage_table"
      ],
      "metadata": {
        "colab": {
          "base_uri": "https://localhost:8080/"
        },
        "id": "m5wrItW0inNs",
        "outputId": "0f4d551d-b959-47da-d40c-c5fc99b2533b"
      },
      "execution_count": null,
      "outputs": [
        {
          "output_type": "execute_result",
          "data": {
            "text/plain": [
              "{'o': 7.4723884031293135,\n",
              " 'm': 3.071790151863783,\n",
              " 'a': 7.73508206780181,\n",
              " 'n': 9.633379352661452,\n",
              " 'd': 2.764994631078386,\n",
              " 'i': 9.420539960116582,\n",
              " 'g': 4.739990796134377,\n",
              " 'b': 2.462034054302807,\n",
              " 'r': 5.125402669121031,\n",
              " 'c': 4.053535818377052,\n",
              " 'e': 9.501073784322749,\n",
              " 's': 2.6729559748427674,\n",
              " 'l': 6.020862095413407,\n",
              " 'f': 1.765991716520939,\n",
              " 't': 4.095720202485044,\n",
              " 'y': 2.3412333179935576,\n",
              " 'v': 1.2732014112593957,\n",
              " 'u': 4.912563276576162,\n",
              " 'z': 2.097714373370149,\n",
              " 'p': 2.640358950759319,\n",
              " 'h': 1.650943396226415,\n",
              " 'j': 0.36240220892774966,\n",
              " 'q': 0.6538579536738763,\n",
              " 'x': 0.7919159380273048,\n",
              " 'w': 0.9970854425525387,\n",
              " 'k': 1.7429820524620339}"
            ]
          },
          "metadata": {},
          "execution_count": 40
        }
      ]
    },
    {
      "cell_type": "code",
      "source": [
        "X_train.shape"
      ],
      "metadata": {
        "colab": {
          "base_uri": "https://localhost:8080/"
        },
        "id": "BlihsA3A2Osl",
        "outputId": "f82d0986-2421-4a57-aebe-823da7bdce5f"
      },
      "execution_count": null,
      "outputs": [
        {
          "output_type": "execute_result",
          "data": {
            "text/plain": [
              "(36506, 16, 8)"
            ]
          },
          "metadata": {},
          "execution_count": 53
        }
      ]
    },
    {
      "cell_type": "code",
      "source": [],
      "metadata": {
        "id": "vRh-ZgVD2OIB"
      },
      "execution_count": null,
      "outputs": []
    },
    {
      "cell_type": "code",
      "source": [
        "from sklearn.neighbors import KNeighborsClassifier\n",
        "\n",
        "knn_model = KNeighborsClassifier(n_neighbors=5,\n",
        "                                 weights=\"uniform\", algorithm=\"auto\")\n",
        "knn_model.fit(X_train_transformed, y_traina)\n",
        "\n",
        "# Already well over 97%\n",
        "print(f\"Base Accuracy = {knn_model.score(X_test_transformed, y_testa)}\")"
      ],
      "metadata": {
        "colab": {
          "base_uri": "https://localhost:8080/"
        },
        "id": "DRWOfhEChwDM",
        "outputId": "339d53ae-4c08-4330-c123-2e3d07d7d4ca"
      },
      "execution_count": null,
      "outputs": [
        {
          "output_type": "stream",
          "name": "stdout",
          "text": [
            "Base Accuracy = 0.9789722612808386\n"
          ]
        }
      ]
    },
    {
      "cell_type": "code",
      "source": [
        "# with hyperparameter tuning\n",
        "from sklearn.model_selection import GridSearchCV\n",
        "\n",
        "param_grid = [{\"weights\": [\"uniform\", \"distance\"],\n",
        "              'n_neighbors': [3,4,5,6],\n",
        "              \"algorithm\": ['ball_tree', \"kd_tree\"]}]\n",
        "\n",
        "knn_model_tuned = KNeighborsClassifier()\n",
        "grid_search = GridSearchCV(knn_model_tuned, param_grid, cv=5)\n",
        "grid_search.fit(X_train_transformed[:len(y_traina)//5], y_traina[:len(y_traina)//5]) # fit on a fifth of the training data to speed up\n",
        "grid_search.best_params_"
      ],
      "metadata": {
        "colab": {
          "base_uri": "https://localhost:8080/"
        },
        "id": "zpk7l2hfpuS8",
        "outputId": "6b3f28c7-a758-4901-a2e3-f9a6684531b3"
      },
      "execution_count": null,
      "outputs": [
        {
          "output_type": "execute_result",
          "data": {
            "text/plain": [
              "{'algorithm': 'ball_tree', 'n_neighbors': 3, 'weights': 'distance'}"
            ]
          },
          "metadata": {},
          "execution_count": 57
        }
      ]
    },
    {
      "cell_type": "code",
      "source": [
        "grid_search.best_estimator_.fit(X_train_transformed, y_traina)\n",
        "tuned_accuracy = grid_search.score(X_test_transformed, y_testa)\n",
        "tuned_accuracy # A little better than base"
      ],
      "metadata": {
        "colab": {
          "base_uri": "https://localhost:8080/"
        },
        "id": "px0xAbGsrE-8",
        "outputId": "89a1a201-6ff7-4bf2-8772-12be81e9aeac"
      },
      "execution_count": null,
      "outputs": [
        {
          "output_type": "execute_result",
          "data": {
            "text/plain": [
              "0.9783970343857855"
            ]
          },
          "metadata": {},
          "execution_count": 59
        }
      ]
    },
    {
      "cell_type": "code",
      "source": [],
      "metadata": {
        "id": "nUyrTRthup9c"
      },
      "execution_count": null,
      "outputs": []
    },
    {
      "cell_type": "markdown",
      "source": [
        "#### Data Augmentation"
      ],
      "metadata": {
        "id": "GhQfyx48uq1q"
      }
    },
    {
      "cell_type": "code",
      "source": [
        "from scipy.ndimage import shift\n",
        "import matplotlib.pyplot as plt\n",
        "\n",
        "def shift_image(img, change_x, change_y):\n",
        "    image = img.reshape((16, 8))\n",
        "    shifted_image = shift(image, [change_x, change_y], cval=0, mode=\"constant\")\n",
        "    return shifted_image.reshape([-1])"
      ],
      "metadata": {
        "id": "7EJFNs7Cup5-"
      },
      "execution_count": null,
      "outputs": []
    },
    {
      "cell_type": "code",
      "source": [
        "image = X_train[1000]  # some random digit to demo\n",
        "shifted_image_up = shift_image(image, 5, 0)\n",
        "shifted_image_left = shift_image(image, 0, -5)\n",
        "\n",
        "plt.figure(figsize=(12, 3))\n",
        "plt.subplot(131)\n",
        "plt.title(\"Original\")\n",
        "plt.imshow(image.reshape(16, 8),\n",
        "           interpolation=\"nearest\", cmap=\"Greys\")\n",
        "plt.subplot(132)\n",
        "plt.title(\"Shifted up\")\n",
        "plt.imshow(shifted_image_up.reshape(16, 8),\n",
        "           interpolation=\"nearest\", cmap=\"Greys\")\n",
        "plt.subplot(133)\n",
        "plt.title(\"Shifted left\")\n",
        "plt.imshow(shifted_image_left.reshape(16, 8),\n",
        "           interpolation=\"nearest\", cmap=\"Greys\")\n",
        "plt.show()"
      ],
      "metadata": {
        "colab": {
          "base_uri": "https://localhost:8080/",
          "height": 314
        },
        "id": "JECO9n0Evrwq",
        "outputId": "a8e45226-c607-41ba-aa70-3b669ab831d8"
      },
      "execution_count": null,
      "outputs": [
        {
          "output_type": "display_data",
          "data": {
            "text/plain": [
              "<Figure size 1200x300 with 3 Axes>"
            ],
            "image/png": "[encoded data removed]"
          },
          "metadata": {}
        }
      ]
    },
    {
      "cell_type": "code",
      "source": [
        "X_train_augmented = [image for image in X_train]\n",
        "y_train_augmented = [label for label in y_train]\n",
        "\n",
        "for dx, dy in ((-1, 0), (1, 0), (0, 1), (0, -1)):\n",
        "    for image, label in zip(X_train, y_train):\n",
        "        X_train_augmented.append(shift_image(image, dx, dy))\n",
        "        y_train_augmented.append(label)\n",
        "\n",
        "X_train_augmented = np.array(X_train_augmented)\n",
        "y_train_augmented = np.array(y_train_augmented)\n",
        "\n",
        "X_train_augmented.shape, y_train_augmented.shape"
      ],
      "metadata": {
        "colab": {
          "base_uri": "https://localhost:8080/"
        },
        "id": "ft1Z0zT-v5hT",
        "outputId": "6a5a063d-61e7-4419-fb1c-b96ef94378af"
      },
      "execution_count": null,
      "outputs": [
        {
          "output_type": "execute_result",
          "data": {
            "text/plain": [
              "((182530, 128), (182530,))"
            ]
          },
          "metadata": {},
          "execution_count": 18
        }
      ]
    },
    {
      "cell_type": "code",
      "source": [
        "shuffle_idx = np.random.permutation(len(X_train_augmented))\n",
        "X_train_augmented = X_train_augmented[shuffle_idx]\n",
        "y_train_augmented = y_train_augmented[shuffle_idx]"
      ],
      "metadata": {
        "id": "ZNDmlKcvyvFl"
      },
      "execution_count": null,
      "outputs": []
    },
    {
      "cell_type": "code",
      "source": [
        "knn_clf = KNeighborsClassifier(**grid_search.best_params_)\n",
        "knn_clf.fit(X_train_augmented, y_train_augmented)\n",
        "\n",
        "augmented_accuracy = knn_clf.score(X_test, y_test)"
      ],
      "metadata": {
        "id": "kvRu9r6Oy1cj"
      },
      "execution_count": null,
      "outputs": []
    },
    {
      "cell_type": "code",
      "source": [
        "baseline_accuracy, augmented_accuracy"
      ],
      "metadata": {
        "id": "2SrbLlGBzAnh",
        "colab": {
          "base_uri": "https://localhost:8080/"
        },
        "outputId": "80b35fce-c5ab-41f2-d9aa-71f624065b26"
      },
      "execution_count": null,
      "outputs": [
        {
          "output_type": "execute_result",
          "data": {
            "text/plain": [
              "(0.8189313562571904, 0.8413012910648089)"
            ]
          },
          "metadata": {},
          "execution_count": 23
        }
      ]
    },
    {
      "cell_type": "code",
      "source": [],
      "metadata": {
        "id": "S2OfkrmSV6JB"
      },
      "execution_count": null,
      "outputs": []
    }
  ]
}